{
 "cells": [
  {
   "cell_type": "code",
   "execution_count": 1,
   "metadata": {},
   "outputs": [],
   "source": [
    "import comet_ml\n",
    "\n",
    "# Initializing the project\n",
    "comet_ml.init(project_name=\"text-classification-with-transformers\")"
   ]
  },
  {
   "cell_type": "code",
   "execution_count": 2,
   "metadata": {},
   "outputs": [
    {
     "data": {
      "application/vnd.jupyter.widget-view+json": {
       "model_id": "cd208baff553413b8f55368b46d63711",
       "version_major": 2,
       "version_minor": 0
      },
      "text/plain": [
       "VBox(children=(HTML(value='<center> <img\\nsrc=https://huggingface.co/front/assets/huggingface_logo-noborder.sv…"
      ]
     },
     "metadata": {},
     "output_type": "display_data"
    }
   ],
   "source": [
    "from huggingface_hub import notebook_login\n",
    "\n",
    "# Logining Hugging Face\n",
    "notebook_login()"
   ]
  },
  {
   "cell_type": "code",
   "execution_count": 3,
   "metadata": {},
   "outputs": [],
   "source": [
    "from datasets import load_dataset\n",
    "\n",
    "# Loading the dataset\n",
    "raw_datasets = load_dataset(\"rotten_tomatoes\")"
   ]
  },
  {
   "cell_type": "code",
   "execution_count": 4,
   "metadata": {},
   "outputs": [
    {
     "data": {
      "text/plain": [
       "DatasetDict({\n",
       "    train: Dataset({\n",
       "        features: ['text', 'label'],\n",
       "        num_rows: 8530\n",
       "    })\n",
       "    validation: Dataset({\n",
       "        features: ['text', 'label'],\n",
       "        num_rows: 1066\n",
       "    })\n",
       "    test: Dataset({\n",
       "        features: ['text', 'label'],\n",
       "        num_rows: 1066\n",
       "    })\n",
       "})"
      ]
     },
     "execution_count": 4,
     "metadata": {},
     "output_type": "execute_result"
    }
   ],
   "source": [
    "raw_datasets"
   ]
  },
  {
   "cell_type": "code",
   "execution_count": 5,
   "metadata": {},
   "outputs": [
    {
     "data": {
      "text/plain": [
       "{'text': 'the rock is destined to be the 21st century\\'s new \" conan \" and that he\\'s going to make a splash even greater than arnold schwarzenegger , jean-claud van damme or steven segal .',\n",
       " 'label': 1}"
      ]
     },
     "execution_count": 5,
     "metadata": {},
     "output_type": "execute_result"
    }
   ],
   "source": [
    "# Looking at the first sample of the training set\n",
    "raw_datasets[\"train\"][0]"
   ]
  },
  {
   "cell_type": "code",
   "execution_count": 6,
   "metadata": {},
   "outputs": [
    {
     "data": {
      "text/html": [
       "<div>\n",
       "<style scoped>\n",
       "    .dataframe tbody tr th:only-of-type {\n",
       "        vertical-align: middle;\n",
       "    }\n",
       "\n",
       "    .dataframe tbody tr th {\n",
       "        vertical-align: top;\n",
       "    }\n",
       "\n",
       "    .dataframe thead th {\n",
       "        text-align: right;\n",
       "    }\n",
       "</style>\n",
       "<table border=\"1\" class=\"dataframe\">\n",
       "  <thead>\n",
       "    <tr style=\"text-align: right;\">\n",
       "      <th></th>\n",
       "      <th>text</th>\n",
       "      <th>label</th>\n",
       "    </tr>\n",
       "  </thead>\n",
       "  <tbody>\n",
       "    <tr>\n",
       "      <th>0</th>\n",
       "      <td>the rock is destined to be the 21st century's ...</td>\n",
       "      <td>1</td>\n",
       "    </tr>\n",
       "    <tr>\n",
       "      <th>1</th>\n",
       "      <td>the gorgeously elaborate continuation of \" the...</td>\n",
       "      <td>1</td>\n",
       "    </tr>\n",
       "    <tr>\n",
       "      <th>2</th>\n",
       "      <td>effective but too-tepid biopic</td>\n",
       "      <td>1</td>\n",
       "    </tr>\n",
       "    <tr>\n",
       "      <th>3</th>\n",
       "      <td>if you sometimes like to go to the movies to h...</td>\n",
       "      <td>1</td>\n",
       "    </tr>\n",
       "    <tr>\n",
       "      <th>4</th>\n",
       "      <td>emerges as something rare , an issue movie tha...</td>\n",
       "      <td>1</td>\n",
       "    </tr>\n",
       "  </tbody>\n",
       "</table>\n",
       "</div>"
      ],
      "text/plain": [
       "                                                text  label\n",
       "0  the rock is destined to be the 21st century's ...      1\n",
       "1  the gorgeously elaborate continuation of \" the...      1\n",
       "2                     effective but too-tepid biopic      1\n",
       "3  if you sometimes like to go to the movies to h...      1\n",
       "4  emerges as something rare , an issue movie tha...      1"
      ]
     },
     "execution_count": 6,
     "metadata": {},
     "output_type": "execute_result"
    }
   ],
   "source": [
    "import pandas as pd\n",
    "\n",
    "# Converting the dataset into Pandas dataframe\n",
    "raw_datasets.set_format(type=\"pandas\")\n",
    "df = raw_datasets[\"train\"][:]\n",
    "df.head()"
   ]
  },
  {
   "cell_type": "code",
   "execution_count": 7,
   "metadata": {},
   "outputs": [
    {
     "data": {
      "text/plain": [
       "(8530, 2)"
      ]
     },
     "execution_count": 7,
     "metadata": {},
     "output_type": "execute_result"
    }
   ],
   "source": [
    "df.shape"
   ]
  },
  {
   "cell_type": "code",
   "execution_count": 8,
   "metadata": {},
   "outputs": [
    {
     "data": {
      "text/plain": [
       "label\n",
       "1    4265\n",
       "0    4265\n",
       "Name: count, dtype: int64"
      ]
     },
     "execution_count": 8,
     "metadata": {},
     "output_type": "execute_result"
    }
   ],
   "source": [
    "df['label'].value_counts()"
   ]
  },
  {
   "cell_type": "code",
   "execution_count": 9,
   "metadata": {},
   "outputs": [
    {
     "data": {
      "text/plain": [
       "Index(['text', 'label'], dtype='object')"
      ]
     },
     "execution_count": 9,
     "metadata": {},
     "output_type": "execute_result"
    }
   ],
   "source": [
    "df.columns"
   ]
  },
  {
   "cell_type": "code",
   "execution_count": 10,
   "metadata": {},
   "outputs": [
    {
     "data": {
      "image/png": "[encoded data removed]",
      "text/plain": [
       "<Figure size 640x480 with 1 Axes>"
      ]
     },
     "metadata": {},
     "output_type": "display_data"
    }
   ],
   "source": [
    "import matplotlib.pyplot as plt\n",
    "\n",
    "# Visualizing the frequency of classes\n",
    "df[\"label\"].value_counts(ascending=True).plot.barh()\n",
    "plt.title(\"Frequency of Classes\")\n",
    "plt.show()"
   ]
  },
  {
   "cell_type": "code",
   "execution_count": 11,
   "metadata": {},
   "outputs": [
    {
     "data": {
      "image/png": "[encoded data removed]",
      "text/plain": [
       "<Figure size 640x480 with 1 Axes>"
      ]
     },
     "metadata": {},
     "output_type": "display_data"
    }
   ],
   "source": [
    "# Visualizing words per review\n",
    "df[\"Words Per Review\"] = df[\"text\"].str.split().apply(len)\n",
    "df.boxplot(\"Words Per Review\", by=\"label\", grid=False, showfliers=False,\n",
    "           color=\"black\")\n",
    "plt.suptitle(\"\")\n",
    "plt.xlabel(\"\")\n",
    "plt.show()"
   ]
  },
  {
   "cell_type": "code",
   "execution_count": 12,
   "metadata": {},
   "outputs": [],
   "source": [
    "# Reseting the dataset format\n",
    "raw_datasets.reset_format()"
   ]
  },
  {
   "cell_type": "markdown",
   "metadata": {},
   "source": [
    "## Preprocessing"
   ]
  },
  {
   "cell_type": "code",
   "execution_count": 13,
   "metadata": {},
   "outputs": [],
   "source": [
    "from transformers import AutoTokenizer\n",
    "\n",
    "# Loading the DistilBERT tokenizer \n",
    "checkpoint = \"distilbert-base-uncased\"\n",
    "tokenizer = AutoTokenizer.from_pretrained(checkpoint)"
   ]
  },
  {
   "cell_type": "code",
   "execution_count": 14,
   "metadata": {},
   "outputs": [
    {
     "data": {
      "application/vnd.jupyter.widget-view+json": {
       "model_id": "0a413d9af209464e85ff253f85db6707",
       "version_major": 2,
       "version_minor": 0
      },
      "text/plain": [
       "Map:   0%|          | 0/1066 [00:00<?, ? examples/s]"
      ]
     },
     "metadata": {},
     "output_type": "display_data"
    }
   ],
   "source": [
    "# Creating a function for tokenization\n",
    "def tokenize_function(examples):\n",
    "    return tokenizer(examples[\"text\"], truncation=True)\n",
    "\n",
    "# Applying the function to the entire dataset\n",
    "tokenized_datasets = raw_datasets.map(tokenize_function, batched=True)"
   ]
  },
  {
   "cell_type": "code",
   "execution_count": 15,
   "metadata": {},
   "outputs": [
    {
     "data": {
      "text/plain": [
       "DatasetDict({\n",
       "    train: Dataset({\n",
       "        features: ['text', 'label', 'input_ids', 'attention_mask'],\n",
       "        num_rows: 8530\n",
       "    })\n",
       "    validation: Dataset({\n",
       "        features: ['text', 'label', 'input_ids', 'attention_mask'],\n",
       "        num_rows: 1066\n",
       "    })\n",
       "    test: Dataset({\n",
       "        features: ['text', 'label', 'input_ids', 'attention_mask'],\n",
       "        num_rows: 1066\n",
       "    })\n",
       "})"
      ]
     },
     "execution_count": 15,
     "metadata": {},
     "output_type": "execute_result"
    }
   ],
   "source": [
    "tokenized_datasets"
   ]
  },
  {
   "cell_type": "code",
   "execution_count": 16,
   "metadata": {},
   "outputs": [],
   "source": [
    "from transformers import DataCollatorWithPadding\n",
    "\n",
    "# Padding\n",
    "data_collator = DataCollatorWithPadding(tokenizer=tokenizer)"
   ]
  },
  {
   "cell_type": "markdown",
   "metadata": {},
   "source": [
    "## Evaluation\n"
   ]
  },
  {
   "cell_type": "code",
   "execution_count": 17,
   "metadata": {},
   "outputs": [],
   "source": [
    "from sklearn.metrics import accuracy_score, precision_recall_fscore_support\n",
    "\n",
    "# Indexing to example function\n",
    "def get_example(index):\n",
    "    return tokenized_datasets[\"test\"][index][\"text\"]\n",
    "\n",
    "# Creating a function to compute metrics\n",
    "def compute_metrics(pred):\n",
    "    experiment = comet_ml.get_global_experiment()\n",
    "\n",
    "    labels = pred.label_ids\n",
    "    preds = pred.predictions.argmax(-1)\n",
    "    precision, recall, f1, _ = precision_recall_fscore_support(\n",
    "        labels, preds, average=\"macro\"\n",
    "    )\n",
    "    acc = accuracy_score(labels, preds)\n",
    "\n",
    "    if experiment:\n",
    "        epoch = int(experiment.curr_epoch) if experiment.curr_epoch is not None else 0\n",
    "        experiment.set_epoch(epoch)\n",
    "        experiment.log_confusion_matrix(\n",
    "            y_true=labels,\n",
    "            y_predicted=preds,\n",
    "            file_name=f\"confusion-matrix-epoch-{epoch}.json\",\n",
    "            labels=[\"negative\", \"positive\"],\n",
    "            index_to_example_function=get_example,\n",
    "        )\n",
    "\n",
    "    return {\"accuracy\": acc, \"f1\": f1, \"precision\": precision, \"recall\": recall}"
   ]
  },
  {
   "cell_type": "markdown",
   "metadata": {},
   "source": [
    "## Transformers"
   ]
  },
  {
   "cell_type": "code",
   "execution_count": 18,
   "metadata": {},
   "outputs": [
    {
     "name": "stderr",
     "output_type": "stream",
     "text": [
      "Some weights of DistilBertForSequenceClassification were not initialized from the model checkpoint at distilbert-base-uncased and are newly initialized: ['pre_classifier.bias', 'classifier.weight', 'classifier.bias', 'pre_classifier.weight']\n",
      "You should probably TRAIN this model on a down-stream task to be able to use it for predictions and inference.\n"
     ]
    }
   ],
   "source": [
    "from transformers import AutoModelForSequenceClassification\n",
    "\n",
    "# Mapping ids to labels \n",
    "id2label = {0: \"NEGATIVE\", 1: \"POSITIVE\"}\n",
    "label2id = {\"NEGATIVE\": 0, \"POSITIVE\": 1}\n",
    "\n",
    "# Building the model\n",
    "model = AutoModelForSequenceClassification.from_pretrained(\n",
    "              checkpoint, num_labels=2, id2label=id2label, label2id=label2id)"
   ]
  },
  {
   "cell_type": "code",
   "execution_count": 19,
   "metadata": {},
   "outputs": [
    {
     "name": "stdout",
     "output_type": "stream",
     "text": [
      "env: COMET_MODE=ONLINE\n",
      "env: COMET_LOG_ASSETS=TRUE\n"
     ]
    },
    {
     "name": "stderr",
     "output_type": "stream",
     "text": [
      "\u001b[1;38;5;214mCOMET WARNING:\u001b[0m As you are running in a Jupyter environment, you will need to call `experiment.end()` when finished to ensure all metrics and code are logged before exiting.\n",
      "\u001b[1;38;5;39mCOMET INFO:\u001b[0m Couldn't find a Git repository in 'c:\\\\Users\\\\zzaib\\\\Desktop\\\\vs-code-projects\\\\bert-text-classification-gradio' nor in any parent directory. Set `COMET_GIT_DIRECTORY` if your Git Repository is elsewhere.\n",
      "\u001b[1;38;5;39mCOMET INFO:\u001b[0m Experiment is live on comet.com https://www.comet.com/qaicodes/text-classification-with-transformers/a9fb014385b449988404365af795e52b\n",
      "\n"
     ]
    },
    {
     "data": {
      "application/vnd.jupyter.widget-view+json": {
       "model_id": "5d0ffa2894874d46b22b0e53f8b307a6",
       "version_major": 2,
       "version_minor": 0
      },
      "text/plain": [
       "  0%|          | 0/1602 [00:00<?, ?it/s]"
      ]
     },
     "metadata": {},
     "output_type": "display_data"
    },
    {
     "name": "stderr",
     "output_type": "stream",
     "text": [
      "You're using a DistilBertTokenizerFast tokenizer. Please note that with a fast tokenizer, using the `__call__` method is faster than using a method to encode the text followed by a call to the `pad` method to get a padded encoding.\n"
     ]
    },
    {
     "name": "stdout",
     "output_type": "stream",
     "text": [
      "{'loss': 0.4172, 'learning_rate': 1.3757802746566792e-05, 'epoch': 0.94}\n"
     ]
    },
    {
     "data": {
      "application/vnd.jupyter.widget-view+json": {
       "model_id": "6b46e2d199434cbc918df98966fc03c9",
       "version_major": 2,
       "version_minor": 0
      },
      "text/plain": [
       "  0%|          | 0/67 [00:00<?, ?it/s]"
      ]
     },
     "metadata": {},
     "output_type": "display_data"
    },
    {
     "name": "stdout",
     "output_type": "stream",
     "text": [
      "{'eval_loss': 0.42757463455200195, 'eval_accuracy': 0.8133208255159474, 'eval_f1': 0.8113484070343937, 'eval_precision': 0.826996267560101, 'eval_recall': 0.8133208255159474, 'eval_runtime': 56.5077, 'eval_samples_per_second': 18.865, 'eval_steps_per_second': 1.186, 'epoch': 1.0}\n",
      "{'loss': 0.2485, 'learning_rate': 7.515605493133583e-06, 'epoch': 1.87}\n"
     ]
    },
    {
     "data": {
      "application/vnd.jupyter.widget-view+json": {
       "model_id": "4aa461c404944d1487d46adb834959fd",
       "version_major": 2,
       "version_minor": 0
      },
      "text/plain": [
       "  0%|          | 0/67 [00:00<?, ?it/s]"
      ]
     },
     "metadata": {},
     "output_type": "display_data"
    },
    {
     "name": "stdout",
     "output_type": "stream",
     "text": [
      "{'eval_loss': 0.45702797174453735, 'eval_accuracy': 0.8414634146341463, 'eval_f1': 0.8414521132648347, 'eval_precision': 0.8415608011041942, 'eval_recall': 0.8414634146341463, 'eval_runtime': 59.0768, 'eval_samples_per_second': 18.044, 'eval_steps_per_second': 1.134, 'epoch': 2.0}\n",
      "{'loss': 0.1602, 'learning_rate': 1.2734082397003748e-06, 'epoch': 2.81}\n"
     ]
    },
    {
     "data": {
      "application/vnd.jupyter.widget-view+json": {
       "model_id": "1cf61e174863426c8aa74ebd767d39e6",
       "version_major": 2,
       "version_minor": 0
      },
      "text/plain": [
       "  0%|          | 0/67 [00:00<?, ?it/s]"
      ]
     },
     "metadata": {},
     "output_type": "display_data"
    },
    {
     "name": "stdout",
     "output_type": "stream",
     "text": [
      "{'eval_loss': 0.5490453243255615, 'eval_accuracy': 0.8377110694183865, 'eval_f1': 0.8376995005610437, 'eval_precision': 0.8378073857074448, 'eval_recall': 0.8377110694183865, 'eval_runtime': 54.6017, 'eval_samples_per_second': 19.523, 'eval_steps_per_second': 1.227, 'epoch': 3.0}\n",
      "{'train_runtime': 5435.3229, 'train_samples_per_second': 4.708, 'train_steps_per_second': 0.295, 'train_loss': 0.2664589768789532, 'epoch': 3.0}\n"
     ]
    },
    {
     "name": "stderr",
     "output_type": "stream",
     "text": [
      "\u001b[1;38;5;39mCOMET INFO:\u001b[0m ---------------------------------------------------------------------------------------\n",
      "\u001b[1;38;5;39mCOMET INFO:\u001b[0m Comet.ml Experiment Summary\n",
      "\u001b[1;38;5;39mCOMET INFO:\u001b[0m ---------------------------------------------------------------------------------------\n",
      "\u001b[1;38;5;39mCOMET INFO:\u001b[0m   Data:\n",
      "\u001b[1;38;5;39mCOMET INFO:\u001b[0m     display_summary_level : 1\n",
      "\u001b[1;38;5;39mCOMET INFO:\u001b[0m     url                   : https://www.comet.com/qaicodes/text-classification-with-transformers/a9fb014385b449988404365af795e52b\n",
      "\u001b[1;38;5;39mCOMET INFO:\u001b[0m   Metrics [count] (min, max):\n",
      "\u001b[1;38;5;39mCOMET INFO:\u001b[0m     epoch [7]                   : (0.94, 3.0)\n",
      "\u001b[1;38;5;39mCOMET INFO:\u001b[0m     eval_accuracy [3]           : (0.8133208255159474, 0.8414634146341463)\n",
      "\u001b[1;38;5;39mCOMET INFO:\u001b[0m     eval_f1 [3]                 : (0.8113484070343937, 0.8414521132648347)\n",
      "\u001b[1;38;5;39mCOMET INFO:\u001b[0m     eval_loss [3]               : (0.42757463455200195, 0.5490453243255615)\n",
      "\u001b[1;38;5;39mCOMET INFO:\u001b[0m     eval_precision [3]          : (0.826996267560101, 0.8415608011041942)\n",
      "\u001b[1;38;5;39mCOMET INFO:\u001b[0m     eval_recall [3]             : (0.8133208255159474, 0.8414634146341463)\n",
      "\u001b[1;38;5;39mCOMET INFO:\u001b[0m     eval_runtime [3]            : (54.6017, 59.0768)\n",
      "\u001b[1;38;5;39mCOMET INFO:\u001b[0m     eval_samples_per_second [3] : (18.044, 19.523)\n",
      "\u001b[1;38;5;39mCOMET INFO:\u001b[0m     eval_steps_per_second [3]   : (1.134, 1.227)\n",
      "\u001b[1;38;5;39mCOMET INFO:\u001b[0m     learning_rate [3]           : (1.2734082397003748e-06, 1.3757802746566792e-05)\n",
      "\u001b[1;38;5;39mCOMET INFO:\u001b[0m     loss [163]                  : (0.009221033193171024, 0.7356457710266113)\n",
      "\u001b[1;38;5;39mCOMET INFO:\u001b[0m     total_flos                  : 323229249383832.0\n",
      "\u001b[1;38;5;39mCOMET INFO:\u001b[0m     train_loss                  : 0.2664589768789532\n",
      "\u001b[1;38;5;39mCOMET INFO:\u001b[0m     train_runtime               : 5435.3229\n",
      "\u001b[1;38;5;39mCOMET INFO:\u001b[0m     train_samples_per_second    : 4.708\n",
      "\u001b[1;38;5;39mCOMET INFO:\u001b[0m     train_steps_per_second      : 0.295\n",
      "\u001b[1;38;5;39mCOMET INFO:\u001b[0m   Parameters:\n",
      "\u001b[1;38;5;39mCOMET INFO:\u001b[0m     args/_n_gpu                             : 0\n",
      "\u001b[1;38;5;39mCOMET INFO:\u001b[0m     args/_no_sync_in_gradient_accumulation  : True\n",
      "\u001b[1;38;5;39mCOMET INFO:\u001b[0m     args/_setup_devices                     : cpu\n",
      "\u001b[1;38;5;39mCOMET INFO:\u001b[0m     args/adafactor                          : False\n",
      "\u001b[1;38;5;39mCOMET INFO:\u001b[0m     args/adam_beta1                         : 0.9\n",
      "\u001b[1;38;5;39mCOMET INFO:\u001b[0m     args/adam_beta2                         : 0.999\n",
      "\u001b[1;38;5;39mCOMET INFO:\u001b[0m     args/adam_epsilon                       : 1e-08\n",
      "\u001b[1;38;5;39mCOMET INFO:\u001b[0m     args/auto_find_batch_size               : False\n",
      "\u001b[1;38;5;39mCOMET INFO:\u001b[0m     args/bf16                               : False\n",
      "\u001b[1;38;5;39mCOMET INFO:\u001b[0m     args/bf16_full_eval                     : False\n",
      "\u001b[1;38;5;39mCOMET INFO:\u001b[0m     args/data_seed                          : None\n",
      "\u001b[1;38;5;39mCOMET INFO:\u001b[0m     args/dataloader_drop_last               : False\n",
      "\u001b[1;38;5;39mCOMET INFO:\u001b[0m     args/dataloader_num_workers             : 0\n",
      "\u001b[1;38;5;39mCOMET INFO:\u001b[0m     args/dataloader_persistent_workers      : False\n",
      "\u001b[1;38;5;39mCOMET INFO:\u001b[0m     args/dataloader_pin_memory              : True\n",
      "\u001b[1;38;5;39mCOMET INFO:\u001b[0m     args/ddp_backend                        : None\n",
      "\u001b[1;38;5;39mCOMET INFO:\u001b[0m     args/ddp_broadcast_buffers              : None\n",
      "\u001b[1;38;5;39mCOMET INFO:\u001b[0m     args/ddp_bucket_cap_mb                  : None\n",
      "\u001b[1;38;5;39mCOMET INFO:\u001b[0m     args/ddp_find_unused_parameters         : None\n",
      "\u001b[1;38;5;39mCOMET INFO:\u001b[0m     args/ddp_timeout                        : 1800\n",
      "\u001b[1;38;5;39mCOMET INFO:\u001b[0m     args/ddp_timeout_delta                  : 0:30:00\n",
      "\u001b[1;38;5;39mCOMET INFO:\u001b[0m     args/debug                              : []\n",
      "\u001b[1;38;5;39mCOMET INFO:\u001b[0m     args/deepspeed                          : None\n",
      "\u001b[1;38;5;39mCOMET INFO:\u001b[0m     args/deepspeed_plugin                   : None\n",
      "\u001b[1;38;5;39mCOMET INFO:\u001b[0m     args/default_optim                      : adamw_torch\n",
      "\u001b[1;38;5;39mCOMET INFO:\u001b[0m     args/device                             : cpu\n",
      "\u001b[1;38;5;39mCOMET INFO:\u001b[0m     args/disable_tqdm                       : False\n",
      "\u001b[1;38;5;39mCOMET INFO:\u001b[0m     args/dispatch_batches                   : None\n",
      "\u001b[1;38;5;39mCOMET INFO:\u001b[0m     args/distributed_state                  : Distributed environment: DistributedType.NO\n",
      "Num processes: 1\n",
      "Process index: 0\n",
      "Local process index: 0\n",
      "Device: cpu\n",
      "\n",
      "\u001b[1;38;5;39mCOMET INFO:\u001b[0m     args/do_eval                            : True\n",
      "\u001b[1;38;5;39mCOMET INFO:\u001b[0m     args/do_predict                         : False\n",
      "\u001b[1;38;5;39mCOMET INFO:\u001b[0m     args/do_train                           : False\n",
      "\u001b[1;38;5;39mCOMET INFO:\u001b[0m     args/eval_accumulation_steps            : None\n",
      "\u001b[1;38;5;39mCOMET INFO:\u001b[0m     args/eval_batch_size                    : 16\n",
      "\u001b[1;38;5;39mCOMET INFO:\u001b[0m     args/eval_delay                         : 0\n",
      "\u001b[1;38;5;39mCOMET INFO:\u001b[0m     args/eval_steps                         : None\n",
      "\u001b[1;38;5;39mCOMET INFO:\u001b[0m     args/evaluation_strategy                : IntervalStrategy.EPOCH\n",
      "\u001b[1;38;5;39mCOMET INFO:\u001b[0m     args/fp16                               : False\n",
      "\u001b[1;38;5;39mCOMET INFO:\u001b[0m     args/fp16_backend                       : auto\n",
      "\u001b[1;38;5;39mCOMET INFO:\u001b[0m     args/fp16_full_eval                     : False\n",
      "\u001b[1;38;5;39mCOMET INFO:\u001b[0m     args/fp16_opt_level                     : O1\n",
      "\u001b[1;38;5;39mCOMET INFO:\u001b[0m     args/framework                          : pt\n",
      "\u001b[1;38;5;39mCOMET INFO:\u001b[0m     args/fsdp                               : []\n",
      "\u001b[1;38;5;39mCOMET INFO:\u001b[0m     args/fsdp_config                        : {'min_num_params': 0, 'xla': False, 'xla_fsdp_grad_ckpt': False}\n",
      "\u001b[1;38;5;39mCOMET INFO:\u001b[0m     args/fsdp_min_num_params                : 0\n",
      "\u001b[1;38;5;39mCOMET INFO:\u001b[0m     args/fsdp_transformer_layer_cls_to_wrap : None\n",
      "\u001b[1;38;5;39mCOMET INFO:\u001b[0m     args/full_determinism                   : False\n",
      "\u001b[1;38;5;39mCOMET INFO:\u001b[0m     args/gradient_accumulation_steps        : 1\n",
      "\u001b[1;38;5;39mCOMET INFO:\u001b[0m     args/gradient_checkpointing             : False\n",
      "\u001b[1;38;5;39mCOMET INFO:\u001b[0m     args/gradient_checkpointing_kwargs      : None\n",
      "\u001b[1;38;5;39mCOMET INFO:\u001b[0m     args/greater_is_better                  : False\n",
      "\u001b[1;38;5;39mCOMET INFO:\u001b[0m     args/group_by_length                    : False\n",
      "\u001b[1;38;5;39mCOMET INFO:\u001b[0m     args/half_precision_backend             : auto\n",
      "\u001b[1;38;5;39mCOMET INFO:\u001b[0m     args/hub_always_push                    : False\n",
      "\u001b[1;38;5;39mCOMET INFO:\u001b[0m     args/hub_model_id                       : None\n",
      "\u001b[1;38;5;39mCOMET INFO:\u001b[0m     args/hub_private_repo                   : False\n",
      "\u001b[1;38;5;39mCOMET INFO:\u001b[0m     args/hub_strategy                       : HubStrategy.EVERY_SAVE\n",
      "\u001b[1;38;5;39mCOMET INFO:\u001b[0m     args/hub_token                          : None\n",
      "\u001b[1;38;5;39mCOMET INFO:\u001b[0m     args/ignore_data_skip                   : False\n",
      "\u001b[1;38;5;39mCOMET INFO:\u001b[0m     args/include_inputs_for_metrics         : False\n",
      "\u001b[1;38;5;39mCOMET INFO:\u001b[0m     args/include_num_input_tokens_seen      : False\n",
      "\u001b[1;38;5;39mCOMET INFO:\u001b[0m     args/include_tokens_per_second          : False\n",
      "\u001b[1;38;5;39mCOMET INFO:\u001b[0m     args/jit_mode_eval                      : False\n",
      "\u001b[1;38;5;39mCOMET INFO:\u001b[0m     args/label_names                        : None\n",
      "\u001b[1;38;5;39mCOMET INFO:\u001b[0m     args/label_smoothing_factor             : 0.0\n",
      "\u001b[1;38;5;39mCOMET INFO:\u001b[0m     args/learning_rate                      : 2e-05\n",
      "\u001b[1;38;5;39mCOMET INFO:\u001b[0m     args/length_column_name                 : length\n",
      "\u001b[1;38;5;39mCOMET INFO:\u001b[0m     args/load_best_model_at_end             : True\n",
      "\u001b[1;38;5;39mCOMET INFO:\u001b[0m     args/local_process_index                : 0\n",
      "\u001b[1;38;5;39mCOMET INFO:\u001b[0m     args/local_rank                         : 0\n",
      "\u001b[1;38;5;39mCOMET INFO:\u001b[0m     args/log_level                          : passive\n",
      "\u001b[1;38;5;39mCOMET INFO:\u001b[0m     args/log_level_replica                  : warning\n",
      "\u001b[1;38;5;39mCOMET INFO:\u001b[0m     args/log_on_each_node                   : True\n",
      "\u001b[1;38;5;39mCOMET INFO:\u001b[0m     args/logging_dir                        : my_distilbert_model\\runs\\Dec25_19-00-17_Qurratulain\n",
      "\u001b[1;38;5;39mCOMET INFO:\u001b[0m     args/logging_first_step                 : False\n",
      "\u001b[1;38;5;39mCOMET INFO:\u001b[0m     args/logging_nan_inf_filter             : True\n",
      "\u001b[1;38;5;39mCOMET INFO:\u001b[0m     args/logging_steps                      : 500\n",
      "\u001b[1;38;5;39mCOMET INFO:\u001b[0m     args/logging_strategy                   : IntervalStrategy.STEPS\n",
      "\u001b[1;38;5;39mCOMET INFO:\u001b[0m     args/lr_scheduler_kwargs                : {}\n",
      "\u001b[1;38;5;39mCOMET INFO:\u001b[0m     args/lr_scheduler_type                  : SchedulerType.LINEAR\n",
      "\u001b[1;38;5;39mCOMET INFO:\u001b[0m     args/max_grad_norm                      : 1.0\n",
      "\u001b[1;38;5;39mCOMET INFO:\u001b[0m     args/max_steps                          : -1\n",
      "\u001b[1;38;5;39mCOMET INFO:\u001b[0m     args/metric_for_best_model              : loss\n",
      "\u001b[1;38;5;39mCOMET INFO:\u001b[0m     args/mp_parameters                      : \n",
      "\u001b[1;38;5;39mCOMET INFO:\u001b[0m     args/n_gpu                              : 0\n",
      "\u001b[1;38;5;39mCOMET INFO:\u001b[0m     args/neftune_noise_alpha                : None\n",
      "\u001b[1;38;5;39mCOMET INFO:\u001b[0m     args/no_cuda                            : False\n",
      "\u001b[1;38;5;39mCOMET INFO:\u001b[0m     args/num_train_epochs                   : 3\n",
      "\u001b[1;38;5;39mCOMET INFO:\u001b[0m     args/optim                              : OptimizerNames.ADAMW_TORCH\n",
      "\u001b[1;38;5;39mCOMET INFO:\u001b[0m     args/optim_args                         : None\n",
      "\u001b[1;38;5;39mCOMET INFO:\u001b[0m     args/output_dir                         : my_distilbert_model\n",
      "\u001b[1;38;5;39mCOMET INFO:\u001b[0m     args/overwrite_output_dir               : False\n",
      "\u001b[1;38;5;39mCOMET INFO:\u001b[0m     args/parallel_mode                      : ParallelMode.NOT_PARALLEL\n",
      "\u001b[1;38;5;39mCOMET INFO:\u001b[0m     args/past_index                         : -1\n",
      "\u001b[1;38;5;39mCOMET INFO:\u001b[0m     args/per_device_eval_batch_size         : 16\n",
      "\u001b[1;38;5;39mCOMET INFO:\u001b[0m     args/per_device_train_batch_size        : 16\n",
      "\u001b[1;38;5;39mCOMET INFO:\u001b[0m     args/per_gpu_eval_batch_size            : None\n",
      "\u001b[1;38;5;39mCOMET INFO:\u001b[0m     args/per_gpu_train_batch_size           : None\n",
      "\u001b[1;38;5;39mCOMET INFO:\u001b[0m     args/place_model_on_device              : True\n",
      "\u001b[1;38;5;39mCOMET INFO:\u001b[0m     args/prediction_loss_only               : False\n",
      "\u001b[1;38;5;39mCOMET INFO:\u001b[0m     args/process_index                      : 0\n",
      "\u001b[1;38;5;39mCOMET INFO:\u001b[0m     args/push_to_hub                        : True\n",
      "\u001b[1;38;5;39mCOMET INFO:\u001b[0m     args/push_to_hub_model_id               : None\n",
      "\u001b[1;38;5;39mCOMET INFO:\u001b[0m     args/push_to_hub_organization           : None\n",
      "\u001b[1;38;5;39mCOMET INFO:\u001b[0m     args/push_to_hub_token                  : None\n",
      "\u001b[1;38;5;39mCOMET INFO:\u001b[0m     args/ray_scope                          : last\n",
      "\u001b[1;38;5;39mCOMET INFO:\u001b[0m     args/remove_unused_columns              : True\n",
      "\u001b[1;38;5;39mCOMET INFO:\u001b[0m     args/report_to                          : ['comet_ml']\n",
      "\u001b[1;38;5;39mCOMET INFO:\u001b[0m     args/resume_from_checkpoint             : None\n",
      "\u001b[1;38;5;39mCOMET INFO:\u001b[0m     args/run_name                           : my_distilbert_model\n",
      "\u001b[1;38;5;39mCOMET INFO:\u001b[0m     args/save_on_each_node                  : False\n",
      "\u001b[1;38;5;39mCOMET INFO:\u001b[0m     args/save_only_model                    : False\n",
      "\u001b[1;38;5;39mCOMET INFO:\u001b[0m     args/save_safetensors                   : True\n",
      "\u001b[1;38;5;39mCOMET INFO:\u001b[0m     args/save_steps                         : 500\n",
      "\u001b[1;38;5;39mCOMET INFO:\u001b[0m     args/save_strategy                      : IntervalStrategy.EPOCH\n",
      "\u001b[1;38;5;39mCOMET INFO:\u001b[0m     args/save_total_limit                   : None\n",
      "\u001b[1;38;5;39mCOMET INFO:\u001b[0m     args/seed                               : 42\n",
      "\u001b[1;38;5;39mCOMET INFO:\u001b[0m     args/should_log                         : True\n",
      "\u001b[1;38;5;39mCOMET INFO:\u001b[0m     args/should_save                        : True\n",
      "\u001b[1;38;5;39mCOMET INFO:\u001b[0m     args/skip_memory_metrics                : True\n",
      "\u001b[1;38;5;39mCOMET INFO:\u001b[0m     args/split_batches                      : False\n",
      "\u001b[1;38;5;39mCOMET INFO:\u001b[0m     args/tf32                               : None\n",
      "\u001b[1;38;5;39mCOMET INFO:\u001b[0m     args/torch_compile                      : False\n",
      "\u001b[1;38;5;39mCOMET INFO:\u001b[0m     args/torch_compile_backend              : None\n",
      "\u001b[1;38;5;39mCOMET INFO:\u001b[0m     args/torch_compile_mode                 : None\n",
      "\u001b[1;38;5;39mCOMET INFO:\u001b[0m     args/torchdynamo                        : None\n",
      "\u001b[1;38;5;39mCOMET INFO:\u001b[0m     args/tpu_metrics_debug                  : False\n",
      "\u001b[1;38;5;39mCOMET INFO:\u001b[0m     args/tpu_num_cores                      : None\n",
      "\u001b[1;38;5;39mCOMET INFO:\u001b[0m     args/train_batch_size                   : 16\n",
      "\u001b[1;38;5;39mCOMET INFO:\u001b[0m     args/use_cpu                            : False\n",
      "\u001b[1;38;5;39mCOMET INFO:\u001b[0m     args/use_ipex                           : False\n",
      "\u001b[1;38;5;39mCOMET INFO:\u001b[0m     args/use_legacy_prediction_loop         : False\n",
      "\u001b[1;38;5;39mCOMET INFO:\u001b[0m     args/use_mps_device                     : False\n",
      "\u001b[1;38;5;39mCOMET INFO:\u001b[0m     args/warmup_ratio                       : 0.0\n",
      "\u001b[1;38;5;39mCOMET INFO:\u001b[0m     args/warmup_steps                       : 0\n",
      "\u001b[1;38;5;39mCOMET INFO:\u001b[0m     args/weight_decay                       : 0.01\n",
      "\u001b[1;38;5;39mCOMET INFO:\u001b[0m     args/world_size                         : 1\n",
      "\u001b[1;38;5;39mCOMET INFO:\u001b[0m     config/_attn_implementation             : eager\n",
      "\u001b[1;38;5;39mCOMET INFO:\u001b[0m     config/_attn_implementation_internal    : None\n",
      "\u001b[1;38;5;39mCOMET INFO:\u001b[0m     config/_auto_class                      : None\n",
      "\u001b[1;38;5;39mCOMET INFO:\u001b[0m     config/_commit_hash                     : 6cdc0aad91f5ae2e6712e91bc7b65d1cf5c05411\n",
      "\u001b[1;38;5;39mCOMET INFO:\u001b[0m     config/_name_or_path                    : distilbert-base-uncased\n",
      "\u001b[1;38;5;39mCOMET INFO:\u001b[0m     config/activation                       : gelu\n",
      "\u001b[1;38;5;39mCOMET INFO:\u001b[0m     config/add_cross_attention              : False\n",
      "\u001b[1;38;5;39mCOMET INFO:\u001b[0m     config/architectures                    : ['DistilBertForMaskedLM']\n",
      "\u001b[1;38;5;39mCOMET INFO:\u001b[0m     config/attention_dropout                : 0.1\n",
      "\u001b[1;38;5;39mCOMET INFO:\u001b[0m     config/attribute_map                    : {'hidden_size': 'dim', 'num_attention_heads': 'n_heads', 'num_hidden_layers': 'n_layers'}\n",
      "\u001b[1;38;5;39mCOMET INFO:\u001b[0m     config/bad_words_ids                    : None\n",
      "\u001b[1;38;5;39mCOMET INFO:\u001b[0m     config/begin_suppress_tokens            : None\n",
      "\u001b[1;38;5;39mCOMET INFO:\u001b[0m     config/bos_token_id                     : None\n",
      "\u001b[1;38;5;39mCOMET INFO:\u001b[0m     config/chunk_size_feed_forward          : 0\n",
      "\u001b[1;38;5;39mCOMET INFO:\u001b[0m     config/cross_attention_hidden_size      : None\n",
      "\u001b[1;38;5;39mCOMET INFO:\u001b[0m     config/decoder_start_token_id           : None\n",
      "\u001b[1;38;5;39mCOMET INFO:\u001b[0m     config/dim                              : 768\n",
      "\u001b[1;38;5;39mCOMET INFO:\u001b[0m     config/diversity_penalty                : 0.0\n",
      "\u001b[1;38;5;39mCOMET INFO:\u001b[0m     config/do_sample                        : False\n",
      "\u001b[1;38;5;39mCOMET INFO:\u001b[0m     config/dropout                          : 0.1\n",
      "\u001b[1;38;5;39mCOMET INFO:\u001b[0m     config/early_stopping                   : False\n",
      "\u001b[1;38;5;39mCOMET INFO:\u001b[0m     config/encoder_no_repeat_ngram_size     : 0\n",
      "\u001b[1;38;5;39mCOMET INFO:\u001b[0m     config/eos_token_id                     : None\n",
      "\u001b[1;38;5;39mCOMET INFO:\u001b[0m     config/exponential_decay_length_penalty : None\n",
      "\u001b[1;38;5;39mCOMET INFO:\u001b[0m     config/finetuning_task                  : None\n",
      "\u001b[1;38;5;39mCOMET INFO:\u001b[0m     config/forced_bos_token_id              : None\n",
      "\u001b[1;38;5;39mCOMET INFO:\u001b[0m     config/forced_eos_token_id              : None\n",
      "\u001b[1;38;5;39mCOMET INFO:\u001b[0m     config/hidden_dim                       : 3072\n",
      "\u001b[1;38;5;39mCOMET INFO:\u001b[0m     config/id2label                         : {0: 'NEGATIVE', 1: 'POSITIVE'}\n",
      "\u001b[1;38;5;39mCOMET INFO:\u001b[0m     config/initializer_range                : 0.02\n",
      "\u001b[1;38;5;39mCOMET INFO:\u001b[0m     config/is_composition                   : False\n",
      "\u001b[1;38;5;39mCOMET INFO:\u001b[0m     config/is_decoder                       : False\n",
      "\u001b[1;38;5;39mCOMET INFO:\u001b[0m     config/is_encoder_decoder               : False\n",
      "\u001b[1;38;5;39mCOMET INFO:\u001b[0m     config/label2id                         : {'NEGATIVE': 0, 'POSITIVE': 1}\n",
      "\u001b[1;38;5;39mCOMET INFO:\u001b[0m     config/length_penalty                   : 1.0\n",
      "\u001b[1;38;5;39mCOMET INFO:\u001b[0m     config/max_length                       : 20\n",
      "\u001b[1;38;5;39mCOMET INFO:\u001b[0m     config/max_position_embeddings          : 512\n",
      "\u001b[1;38;5;39mCOMET INFO:\u001b[0m     config/min_length                       : 0\n",
      "\u001b[1;38;5;39mCOMET INFO:\u001b[0m     config/model_type                       : distilbert\n",
      "\u001b[1;38;5;39mCOMET INFO:\u001b[0m     config/n_heads                          : 12\n",
      "\u001b[1;38;5;39mCOMET INFO:\u001b[0m     config/n_layers                         : 6\n",
      "\u001b[1;38;5;39mCOMET INFO:\u001b[0m     config/name_or_path                     : distilbert-base-uncased\n",
      "\u001b[1;38;5;39mCOMET INFO:\u001b[0m     config/no_repeat_ngram_size             : 0\n",
      "\u001b[1;38;5;39mCOMET INFO:\u001b[0m     config/num_beam_groups                  : 1\n",
      "\u001b[1;38;5;39mCOMET INFO:\u001b[0m     config/num_beams                        : 1\n",
      "\u001b[1;38;5;39mCOMET INFO:\u001b[0m     config/num_labels                       : 2\n",
      "\u001b[1;38;5;39mCOMET INFO:\u001b[0m     config/num_return_sequences             : 1\n",
      "\u001b[1;38;5;39mCOMET INFO:\u001b[0m     config/output_attentions                : False\n",
      "\u001b[1;38;5;39mCOMET INFO:\u001b[0m     config/output_hidden_states             : False\n",
      "\u001b[1;38;5;39mCOMET INFO:\u001b[0m     config/output_scores                    : False\n",
      "\u001b[1;38;5;39mCOMET INFO:\u001b[0m     config/pad_token_id                     : 0\n",
      "\u001b[1;38;5;39mCOMET INFO:\u001b[0m     config/prefix                           : None\n",
      "\u001b[1;38;5;39mCOMET INFO:\u001b[0m     config/problem_type                     : None\n",
      "\u001b[1;38;5;39mCOMET INFO:\u001b[0m     config/pruned_heads                     : {}\n",
      "\u001b[1;38;5;39mCOMET INFO:\u001b[0m     config/qa_dropout                       : 0.1\n",
      "\u001b[1;38;5;39mCOMET INFO:\u001b[0m     config/remove_invalid_values            : False\n",
      "\u001b[1;38;5;39mCOMET INFO:\u001b[0m     config/repetition_penalty               : 1.0\n",
      "\u001b[1;38;5;39mCOMET INFO:\u001b[0m     config/return_dict                      : True\n",
      "\u001b[1;38;5;39mCOMET INFO:\u001b[0m     config/return_dict_in_generate          : False\n",
      "\u001b[1;38;5;39mCOMET INFO:\u001b[0m     config/sep_token_id                     : None\n",
      "\u001b[1;38;5;39mCOMET INFO:\u001b[0m     config/seq_classif_dropout              : 0.2\n",
      "\u001b[1;38;5;39mCOMET INFO:\u001b[0m     config/sinusoidal_pos_embds             : False\n",
      "\u001b[1;38;5;39mCOMET INFO:\u001b[0m     config/suppress_tokens                  : None\n",
      "\u001b[1;38;5;39mCOMET INFO:\u001b[0m     config/task_specific_params             : None\n",
      "\u001b[1;38;5;39mCOMET INFO:\u001b[0m     config/temperature                      : 1.0\n",
      "\u001b[1;38;5;39mCOMET INFO:\u001b[0m     config/tf_legacy_loss                   : False\n",
      "\u001b[1;38;5;39mCOMET INFO:\u001b[0m     config/tie_encoder_decoder              : False\n",
      "\u001b[1;38;5;39mCOMET INFO:\u001b[0m     config/tie_weights_                     : True\n",
      "\u001b[1;38;5;39mCOMET INFO:\u001b[0m     config/tie_word_embeddings              : True\n",
      "\u001b[1;38;5;39mCOMET INFO:\u001b[0m     config/tokenizer_class                  : None\n",
      "\u001b[1;38;5;39mCOMET INFO:\u001b[0m     config/top_k                            : 50\n",
      "\u001b[1;38;5;39mCOMET INFO:\u001b[0m     config/top_p                            : 1.0\n",
      "\u001b[1;38;5;39mCOMET INFO:\u001b[0m     config/torch_dtype                      : None\n",
      "\u001b[1;38;5;39mCOMET INFO:\u001b[0m     config/torchscript                      : False\n",
      "\u001b[1;38;5;39mCOMET INFO:\u001b[0m     config/transformers_version             : 4.10.0.dev0\n",
      "\u001b[1;38;5;39mCOMET INFO:\u001b[0m     config/typical_p                        : 1.0\n",
      "\u001b[1;38;5;39mCOMET INFO:\u001b[0m     config/use_bfloat16                     : False\n",
      "\u001b[1;38;5;39mCOMET INFO:\u001b[0m     config/use_return_dict                  : True\n",
      "\u001b[1;38;5;39mCOMET INFO:\u001b[0m     config/vocab_size                       : 30522\n",
      "\u001b[1;38;5;39mCOMET INFO:\u001b[0m   Uploads:\n",
      "\u001b[1;38;5;39mCOMET INFO:\u001b[0m     asset               : 24 (2.49 GB)\n",
      "\u001b[1;38;5;39mCOMET INFO:\u001b[0m     confusion-matrix    : 3\n",
      "\u001b[1;38;5;39mCOMET INFO:\u001b[0m     environment details : 1\n",
      "\u001b[1;38;5;39mCOMET INFO:\u001b[0m     filename            : 1\n",
      "\u001b[1;38;5;39mCOMET INFO:\u001b[0m     installed packages  : 1\n",
      "\u001b[1;38;5;39mCOMET INFO:\u001b[0m     model graph         : 1\n",
      "\u001b[1;38;5;39mCOMET INFO:\u001b[0m     notebook            : 1\n",
      "\u001b[1;38;5;39mCOMET INFO:\u001b[0m     source_code         : 1\n",
      "\u001b[1;38;5;39mCOMET INFO:\u001b[0m \n",
      "\u001b[1;38;5;39mCOMET INFO:\u001b[0m Please wait for metadata to finish uploading (timeout is 3600 seconds)\n",
      "\u001b[1;38;5;39mCOMET INFO:\u001b[0m Please wait for assets to finish uploading (timeout is 10800 seconds)\n",
      "\u001b[1;38;5;39mCOMET INFO:\u001b[0m Still uploading 7 file(s), remaining 2.46 GB/2.49 GB\n",
      "\u001b[1;38;5;39mCOMET INFO:\u001b[0m Still uploading 7 asset(s), remaining 2.45 GB/2.49 GB, Throughput 473.60 KB/s, ETA ~5430s\n",
      "\u001b[1;38;5;39mCOMET INFO:\u001b[0m Still uploading 7 asset(s), remaining 2.45 GB/2.49 GB, Throughput 449.68 KB/s, ETA ~5704s\n",
      "\u001b[1;38;5;39mCOMET INFO:\u001b[0m Still uploading 7 asset(s), remaining 2.42 GB/2.49 GB, Throughput 1.68 MB/s, ETA ~1473s\n",
      "\u001b[1;38;5;39mCOMET INFO:\u001b[0m Still uploading 7 asset(s), remaining 2.40 GB/2.49 GB, Throughput 1.78 MB/s, ETA ~1377s\n",
      "\u001b[1;38;5;39mCOMET INFO:\u001b[0m Still uploading 7 asset(s), remaining 2.37 GB/2.49 GB, Throughput 1.78 MB/s, ETA ~1366s\n",
      "\u001b[1;38;5;39mCOMET INFO:\u001b[0m Still uploading 7 asset(s), remaining 2.34 GB/2.49 GB, Throughput 1.78 MB/s, ETA ~1346s\n",
      "\u001b[1;38;5;39mCOMET INFO:\u001b[0m Still uploading 7 asset(s), remaining 2.32 GB/2.49 GB, Throughput 1.77 MB/s, ETA ~1342s\n",
      "\u001b[1;38;5;39mCOMET INFO:\u001b[0m Still uploading 7 asset(s), remaining 2.29 GB/2.49 GB, Throughput 1.79 MB/s, ETA ~1314s\n",
      "\u001b[1;38;5;39mCOMET INFO:\u001b[0m Still uploading 7 asset(s), remaining 2.26 GB/2.49 GB, Throughput 1.78 MB/s, ETA ~1305s\n",
      "\u001b[1;38;5;39mCOMET INFO:\u001b[0m Still uploading 7 asset(s), remaining 2.24 GB/2.49 GB, Throughput 1.78 MB/s, ETA ~1287s\n",
      "\u001b[1;38;5;39mCOMET INFO:\u001b[0m Still uploading 7 asset(s), remaining 2.21 GB/2.49 GB, Throughput 1.78 MB/s, ETA ~1272s\n",
      "\u001b[1;38;5;39mCOMET INFO:\u001b[0m Still uploading 7 asset(s), remaining 2.19 GB/2.49 GB, Throughput 1.78 MB/s, ETA ~1255s\n",
      "\u001b[1;38;5;39mCOMET INFO:\u001b[0m Still uploading 7 asset(s), remaining 2.16 GB/2.49 GB, Throughput 1.79 MB/s, ETA ~1236s\n",
      "\u001b[1;38;5;39mCOMET INFO:\u001b[0m Still uploading 7 asset(s), remaining 2.13 GB/2.49 GB, Throughput 1.78 MB/s, ETA ~1227s\n",
      "\u001b[1;38;5;39mCOMET INFO:\u001b[0m Still uploading 7 asset(s), remaining 2.11 GB/2.49 GB, Throughput 1.79 MB/s, ETA ~1207s\n",
      "\u001b[1;38;5;39mCOMET INFO:\u001b[0m Still uploading 7 asset(s), remaining 2.08 GB/2.49 GB, Throughput 1.79 MB/s, ETA ~1194s\n",
      "\u001b[1;38;5;39mCOMET INFO:\u001b[0m Still uploading 7 asset(s), remaining 2.06 GB/2.49 GB, Throughput 1.79 MB/s, ETA ~1177s\n",
      "\u001b[1;38;5;39mCOMET INFO:\u001b[0m Still uploading 7 asset(s), remaining 2.03 GB/2.49 GB, Throughput 1.79 MB/s, ETA ~1164s\n",
      "\u001b[1;38;5;39mCOMET INFO:\u001b[0m Still uploading 7 asset(s), remaining 2.00 GB/2.49 GB, Throughput 1.79 MB/s, ETA ~1148s\n",
      "\u001b[1;38;5;39mCOMET INFO:\u001b[0m Still uploading 7 asset(s), remaining 1.98 GB/2.49 GB, Throughput 1.79 MB/s, ETA ~1133s\n",
      "\u001b[1;38;5;39mCOMET INFO:\u001b[0m Still uploading 7 asset(s), remaining 1.95 GB/2.49 GB, Throughput 1.79 MB/s, ETA ~1119s\n",
      "\u001b[1;38;5;39mCOMET INFO:\u001b[0m Still uploading 7 asset(s), remaining 1.92 GB/2.49 GB, Throughput 1.77 MB/s, ETA ~1111s\n",
      "\u001b[1;38;5;39mCOMET INFO:\u001b[0m Still uploading 7 asset(s), remaining 1.90 GB/2.49 GB, Throughput 1.78 MB/s, ETA ~1090s\n",
      "\u001b[1;38;5;39mCOMET INFO:\u001b[0m Still uploading 7 asset(s), remaining 1.87 GB/2.49 GB, Throughput 1.79 MB/s, ETA ~1072s\n",
      "\u001b[1;38;5;39mCOMET INFO:\u001b[0m Still uploading 7 asset(s), remaining 1.85 GB/2.49 GB, Throughput 1.78 MB/s, ETA ~1062s\n",
      "\u001b[1;38;5;39mCOMET INFO:\u001b[0m Still uploading 7 asset(s), remaining 1.82 GB/2.49 GB, Throughput 1.79 MB/s, ETA ~1044s\n",
      "\u001b[1;38;5;39mCOMET INFO:\u001b[0m Still uploading 7 asset(s), remaining 1.79 GB/2.49 GB, Throughput 1.79 MB/s, ETA ~1029s\n",
      "\u001b[1;38;5;39mCOMET INFO:\u001b[0m Still uploading 7 asset(s), remaining 1.77 GB/2.49 GB, Throughput 1.78 MB/s, ETA ~1019s\n",
      "\u001b[1;38;5;39mCOMET INFO:\u001b[0m Still uploading 7 asset(s), remaining 1.74 GB/2.49 GB, Throughput 1.79 MB/s, ETA ~997s\n",
      "\u001b[1;38;5;39mCOMET INFO:\u001b[0m Still uploading 7 asset(s), remaining 1.72 GB/2.49 GB, Throughput 1.76 MB/s, ETA ~1001s\n",
      "\u001b[1;38;5;39mCOMET INFO:\u001b[0m Still uploading 7 asset(s), remaining 1.69 GB/2.49 GB, Throughput 1.79 MB/s, ETA ~968s\n",
      "\u001b[1;38;5;39mCOMET INFO:\u001b[0m Still uploading 7 asset(s), remaining 1.66 GB/2.49 GB, Throughput 1.79 MB/s, ETA ~954s\n",
      "\u001b[1;38;5;39mCOMET INFO:\u001b[0m Still uploading 7 asset(s), remaining 1.64 GB/2.49 GB, Throughput 1.78 MB/s, ETA ~944s\n",
      "\u001b[1;38;5;39mCOMET INFO:\u001b[0m Still uploading 7 asset(s), remaining 1.61 GB/2.49 GB, Throughput 1.78 MB/s, ETA ~928s\n",
      "\u001b[1;38;5;39mCOMET INFO:\u001b[0m Still uploading 7 asset(s), remaining 1.59 GB/2.49 GB, Throughput 1.78 MB/s, ETA ~912s\n",
      "\u001b[1;38;5;39mCOMET INFO:\u001b[0m Still uploading 7 asset(s), remaining 1.56 GB/2.49 GB, Throughput 1.79 MB/s, ETA ~894s\n",
      "\u001b[1;38;5;39mCOMET INFO:\u001b[0m Still uploading 7 asset(s), remaining 1.53 GB/2.49 GB, Throughput 1.78 MB/s, ETA ~882s\n",
      "\u001b[1;38;5;39mCOMET INFO:\u001b[0m Still uploading 7 asset(s), remaining 1.51 GB/2.49 GB, Throughput 1.79 MB/s, ETA ~864s\n",
      "\u001b[1;38;5;39mCOMET INFO:\u001b[0m Still uploading 7 asset(s), remaining 1.48 GB/2.49 GB, Throughput 1.79 MB/s, ETA ~848s\n",
      "\u001b[1;38;5;39mCOMET INFO:\u001b[0m Still uploading 7 asset(s), remaining 1.45 GB/2.49 GB, Throughput 1.78 MB/s, ETA ~836s\n",
      "\u001b[1;38;5;39mCOMET INFO:\u001b[0m Still uploading 7 asset(s), remaining 1.43 GB/2.49 GB, Throughput 1.78 MB/s, ETA ~821s\n",
      "\u001b[1;38;5;39mCOMET INFO:\u001b[0m Still uploading 7 asset(s), remaining 1.40 GB/2.49 GB, Throughput 1.78 MB/s, ETA ~806s\n",
      "\u001b[1;38;5;39mCOMET INFO:\u001b[0m Still uploading 7 asset(s), remaining 1.38 GB/2.49 GB, Throughput 1.78 MB/s, ETA ~792s\n",
      "\u001b[1;38;5;39mCOMET INFO:\u001b[0m Still uploading 7 asset(s), remaining 1.35 GB/2.49 GB, Throughput 1.78 MB/s, ETA ~778s\n",
      "\u001b[1;38;5;39mCOMET INFO:\u001b[0m Still uploading 7 asset(s), remaining 1.32 GB/2.49 GB, Throughput 1.74 MB/s, ETA ~780s\n",
      "\u001b[1;38;5;39mCOMET INFO:\u001b[0m Still uploading 7 asset(s), remaining 1.30 GB/2.49 GB, Throughput 1.77 MB/s, ETA ~750s\n",
      "\u001b[1;38;5;39mCOMET INFO:\u001b[0m Still uploading 7 asset(s), remaining 1.27 GB/2.49 GB, Throughput 1.79 MB/s, ETA ~729s\n",
      "\u001b[1;38;5;39mCOMET INFO:\u001b[0m Still uploading 7 asset(s), remaining 1.25 GB/2.49 GB, Throughput 1.78 MB/s, ETA ~719s\n",
      "\u001b[1;38;5;39mCOMET INFO:\u001b[0m Still uploading 7 asset(s), remaining 1.22 GB/2.49 GB, Throughput 1.77 MB/s, ETA ~708s\n",
      "\u001b[1;38;5;39mCOMET INFO:\u001b[0m Still uploading 7 asset(s), remaining 1.19 GB/2.49 GB, Throughput 1.77 MB/s, ETA ~691s\n",
      "\u001b[1;38;5;39mCOMET INFO:\u001b[0m Still uploading 7 asset(s), remaining 1.17 GB/2.49 GB, Throughput 1.76 MB/s, ETA ~681s\n",
      "\u001b[1;38;5;39mCOMET INFO:\u001b[0m Still uploading 7 asset(s), remaining 1.14 GB/2.49 GB, Throughput 1.74 MB/s, ETA ~672s\n",
      "\u001b[1;38;5;39mCOMET INFO:\u001b[0m Still uploading 7 asset(s), remaining 1.12 GB/2.49 GB, Throughput 1.74 MB/s, ETA ~659s\n",
      "\u001b[1;38;5;39mCOMET INFO:\u001b[0m Still uploading 7 asset(s), remaining 1.09 GB/2.49 GB, Throughput 1.77 MB/s, ETA ~630s\n",
      "\u001b[1;38;5;39mCOMET INFO:\u001b[0m Still uploading 7 asset(s), remaining 1.07 GB/2.49 GB, Throughput 1.76 MB/s, ETA ~620s\n",
      "\u001b[1;38;5;39mCOMET INFO:\u001b[0m Still uploading 7 asset(s), remaining 1.04 GB/2.49 GB, Throughput 1.73 MB/s, ETA ~616s\n",
      "\u001b[1;38;5;39mCOMET INFO:\u001b[0m Still uploading 7 asset(s), remaining 1.01 GB/2.49 GB, Throughput 1.76 MB/s, ETA ~592s\n",
      "\u001b[1;38;5;39mCOMET INFO:\u001b[0m Still uploading 7 asset(s), remaining 1012.58 MB/2.49 GB, Throughput 1.76 MB/s, ETA ~574s\n",
      "\u001b[1;38;5;39mCOMET INFO:\u001b[0m Still uploading 7 asset(s), remaining 986.39 MB/2.49 GB, Throughput 1.75 MB/s, ETA ~565s\n",
      "\u001b[1;38;5;39mCOMET INFO:\u001b[0m Still uploading 7 asset(s), remaining 960.19 MB/2.49 GB, Throughput 1.75 MB/s, ETA ~551s\n",
      "\u001b[1;38;5;39mCOMET INFO:\u001b[0m Still uploading 7 asset(s), remaining 933.64 MB/2.49 GB, Throughput 1.77 MB/s, ETA ~528s\n",
      "\u001b[1;38;5;39mCOMET INFO:\u001b[0m Still uploading 7 asset(s), remaining 907.51 MB/2.49 GB, Throughput 1.74 MB/s, ETA ~522s\n",
      "\u001b[1;38;5;39mCOMET INFO:\u001b[0m Still uploading 7 asset(s), remaining 881.91 MB/2.49 GB, Throughput 1.71 MB/s, ETA ~517s\n",
      "\u001b[1;38;5;39mCOMET INFO:\u001b[0m Still uploading 7 asset(s), remaining 856.28 MB/2.49 GB, Throughput 1.71 MB/s, ETA ~502s\n",
      "\u001b[1;38;5;39mCOMET INFO:\u001b[0m Still uploading 7 asset(s), remaining 830.55 MB/2.49 GB, Throughput 1.71 MB/s, ETA ~485s\n",
      "\u001b[1;38;5;39mCOMET INFO:\u001b[0m Still uploading 7 asset(s), remaining 804.92 MB/2.49 GB, Throughput 1.71 MB/s, ETA ~472s\n",
      "\u001b[1;38;5;39mCOMET INFO:\u001b[0m Still uploading 6 asset(s), remaining 780.15 MB/2.25 GB, Throughput 1.65 MB/s, ETA ~473s\n",
      "\u001b[1;38;5;39mCOMET INFO:\u001b[0m Still uploading 6 asset(s), remaining 758.10 MB/2.25 GB, Throughput 1.47 MB/s, ETA ~516s\n",
      "\u001b[1;38;5;39mCOMET INFO:\u001b[0m Still uploading 3 asset(s), remaining 742.88 MB/1.50 GB, Throughput 1.01 MB/s, ETA ~733s\n",
      "\u001b[1;38;5;39mCOMET INFO:\u001b[0m Still uploading 3 asset(s), remaining 731.72 MB/1.50 GB, Throughput 760.84 KB/s, ETA ~985s\n",
      "\u001b[1;38;5;39mCOMET INFO:\u001b[0m Still uploading 3 asset(s), remaining 720.38 MB/1.50 GB, Throughput 772.80 KB/s, ETA ~955s\n",
      "\u001b[1;38;5;39mCOMET INFO:\u001b[0m Still uploading 3 asset(s), remaining 708.72 MB/1.50 GB, Throughput 793.25 KB/s, ETA ~915s\n",
      "\u001b[1;38;5;39mCOMET INFO:\u001b[0m Still uploading 3 asset(s), remaining 697.10 MB/1.50 GB, Throughput 792.75 KB/s, ETA ~901s\n",
      "\u001b[1;38;5;39mCOMET INFO:\u001b[0m Still uploading 3 asset(s), remaining 685.44 MB/1.50 GB, Throughput 794.89 KB/s, ETA ~884s\n",
      "\u001b[1;38;5;39mCOMET INFO:\u001b[0m Still uploading 3 asset(s), remaining 673.78 MB/1.50 GB, Throughput 795.73 KB/s, ETA ~868s\n",
      "\u001b[1;38;5;39mCOMET INFO:\u001b[0m Still uploading 3 asset(s), remaining 662.10 MB/1.50 GB, Throughput 794.58 KB/s, ETA ~854s\n",
      "\u001b[1;38;5;39mCOMET INFO:\u001b[0m Still uploading 3 asset(s), remaining 650.42 MB/1.50 GB, Throughput 796.80 KB/s, ETA ~836s\n",
      "\u001b[1;38;5;39mCOMET INFO:\u001b[0m Still uploading 3 asset(s), remaining 638.88 MB/1.50 GB, Throughput 787.43 KB/s, ETA ~831s\n",
      "\u001b[1;38;5;39mCOMET INFO:\u001b[0m Still uploading 3 asset(s), remaining 627.22 MB/1.50 GB, Throughput 794.94 KB/s, ETA ~808s\n",
      "\u001b[1;38;5;39mCOMET INFO:\u001b[0m Still uploading 3 asset(s), remaining 615.66 MB/1.50 GB, Throughput 789.33 KB/s, ETA ~799s\n",
      "\u001b[1;38;5;39mCOMET INFO:\u001b[0m Still uploading 3 asset(s), remaining 603.99 MB/1.50 GB, Throughput 795.95 KB/s, ETA ~778s\n",
      "\u001b[1;38;5;39mCOMET INFO:\u001b[0m Still uploading 3 asset(s), remaining 592.33 MB/1.50 GB, Throughput 795.73 KB/s, ETA ~763s\n",
      "\u001b[1;38;5;39mCOMET INFO:\u001b[0m Still uploading 3 asset(s), remaining 580.67 MB/1.50 GB, Throughput 794.89 KB/s, ETA ~749s\n",
      "\u001b[1;38;5;39mCOMET INFO:\u001b[0m Still uploading 3 asset(s), remaining 568.95 MB/1.50 GB, Throughput 799.20 KB/s, ETA ~729s\n",
      "\u001b[1;38;5;39mCOMET INFO:\u001b[0m Still uploading 3 asset(s), remaining 557.25 MB/1.50 GB, Throughput 798.93 KB/s, ETA ~715s\n",
      "\u001b[1;38;5;39mCOMET INFO:\u001b[0m Still uploading 3 asset(s), remaining 545.61 MB/1.50 GB, Throughput 793.82 KB/s, ETA ~704s\n",
      "\u001b[1;38;5;39mCOMET INFO:\u001b[0m Still uploading 3 asset(s), remaining 533.94 MB/1.50 GB, Throughput 796.00 KB/s, ETA ~687s\n",
      "\u001b[1;38;5;39mCOMET INFO:\u001b[0m Still uploading 3 asset(s), remaining 522.25 MB/1.50 GB, Throughput 797.87 KB/s, ETA ~671s\n",
      "\u001b[1;38;5;39mCOMET INFO:\u001b[0m Still uploading 3 asset(s), remaining 510.56 MB/1.50 GB, Throughput 797.02 KB/s, ETA ~656s\n",
      "\u001b[1;38;5;39mCOMET INFO:\u001b[0m Still uploading 3 asset(s), remaining 498.92 MB/1.50 GB, Throughput 794.67 KB/s, ETA ~643s\n",
      "\u001b[1;38;5;39mCOMET INFO:\u001b[0m Still uploading 3 asset(s), remaining 487.25 MB/1.50 GB, Throughput 795.95 KB/s, ETA ~627s\n",
      "\u001b[1;38;5;39mCOMET INFO:\u001b[0m Still uploading 3 asset(s), remaining 475.56 MB/1.50 GB, Throughput 797.07 KB/s, ETA ~611s\n",
      "\u001b[1;38;5;39mCOMET INFO:\u001b[0m Still uploading 3 asset(s), remaining 463.86 MB/1.50 GB, Throughput 798.93 KB/s, ETA ~595s\n",
      "\u001b[1;38;5;39mCOMET INFO:\u001b[0m Still uploading 3 asset(s), remaining 452.14 MB/1.50 GB, Throughput 799.15 KB/s, ETA ~580s\n",
      "\u001b[1;38;5;39mCOMET INFO:\u001b[0m Still uploading 3 asset(s), remaining 440.49 MB/1.50 GB, Throughput 795.73 KB/s, ETA ~567s\n",
      "\u001b[1;38;5;39mCOMET INFO:\u001b[0m Still uploading 3 asset(s), remaining 428.83 MB/1.50 GB, Throughput 794.89 KB/s, ETA ~553s\n",
      "\u001b[1;38;5;39mCOMET INFO:\u001b[0m Still uploading 3 asset(s), remaining 417.20 MB/1.50 GB, Throughput 792.81 KB/s, ETA ~539s\n",
      "\u001b[1;38;5;39mCOMET INFO:\u001b[0m Still uploading 3 asset(s), remaining 405.50 MB/1.50 GB, Throughput 798.93 KB/s, ETA ~520s\n",
      "\u001b[1;38;5;39mCOMET INFO:\u001b[0m Still uploading 3 asset(s), remaining 393.95 MB/1.50 GB, Throughput 787.43 KB/s, ETA ~513s\n",
      "\u001b[1;38;5;39mCOMET INFO:\u001b[0m Still uploading 3 asset(s), remaining 382.83 MB/1.50 GB, Throughput 759.47 KB/s, ETA ~517s\n",
      "\u001b[1;38;5;39mCOMET INFO:\u001b[0m Still uploading 3 asset(s), remaining 371.64 MB/1.50 GB, Throughput 762.97 KB/s, ETA ~499s\n",
      "\u001b[1;38;5;39mCOMET INFO:\u001b[0m Still uploading 3 asset(s), remaining 360.55 MB/1.50 GB, Throughput 756.53 KB/s, ETA ~489s\n",
      "\u001b[1;38;5;39mCOMET INFO:\u001b[0m Still uploading 3 asset(s), remaining 349.44 MB/1.50 GB, Throughput 758.40 KB/s, ETA ~472s\n",
      "\u001b[1;38;5;39mCOMET INFO:\u001b[0m Still uploading 3 asset(s), remaining 338.25 MB/1.50 GB, Throughput 762.92 KB/s, ETA ~455s\n",
      "\u001b[1;38;5;39mCOMET INFO:\u001b[0m Still uploading 3 asset(s), remaining 327.11 MB/1.50 GB, Throughput 759.77 KB/s, ETA ~441s\n",
      "\u001b[1;38;5;39mCOMET INFO:\u001b[0m Still uploading 3 asset(s), remaining 315.97 MB/1.50 GB, Throughput 760.53 KB/s, ETA ~426s\n",
      "\u001b[1;38;5;39mCOMET INFO:\u001b[0m Still uploading 3 asset(s), remaining 304.80 MB/1.50 GB, Throughput 761.85 KB/s, ETA ~410s\n",
      "\u001b[1;38;5;39mCOMET INFO:\u001b[0m Still uploading 3 asset(s), remaining 293.60 MB/1.50 GB, Throughput 763.99 KB/s, ETA ~394s\n",
      "\u001b[1;38;5;39mCOMET INFO:\u001b[0m Still uploading 3 asset(s), remaining 282.53 MB/1.50 GB, Throughput 754.45 KB/s, ETA ~384s\n",
      "\u001b[1;38;5;39mCOMET INFO:\u001b[0m Still uploading 3 asset(s), remaining 271.42 MB/1.50 GB, Throughput 758.40 KB/s, ETA ~367s\n",
      "\u001b[1;38;5;39mCOMET INFO:\u001b[0m Still uploading 3 asset(s), remaining 260.28 MB/1.50 GB, Throughput 759.72 KB/s, ETA ~351s\n",
      "\u001b[1;38;5;39mCOMET INFO:\u001b[0m Still uploading 3 asset(s), remaining 249.14 MB/1.50 GB, Throughput 759.77 KB/s, ETA ~336s\n",
      "\u001b[1;38;5;39mCOMET INFO:\u001b[0m Still uploading 3 asset(s), remaining 238.05 MB/1.50 GB, Throughput 756.53 KB/s, ETA ~323s\n",
      "\u001b[1;38;5;39mCOMET INFO:\u001b[0m Still uploading 3 asset(s), remaining 227.00 MB/1.50 GB, Throughput 753.33 KB/s, ETA ~309s\n",
      "\u001b[1;38;5;39mCOMET INFO:\u001b[0m Still uploading 3 asset(s), remaining 215.86 MB/1.50 GB, Throughput 760.53 KB/s, ETA ~291s\n",
      "\u001b[1;38;5;39mCOMET INFO:\u001b[0m Still uploading 3 asset(s), remaining 204.72 MB/1.50 GB, Throughput 759.77 KB/s, ETA ~276s\n",
      "\u001b[1;38;5;39mCOMET INFO:\u001b[0m Still uploading 3 asset(s), remaining 193.56 MB/1.50 GB, Throughput 760.79 KB/s, ETA ~261s\n",
      "\u001b[1;38;5;39mCOMET INFO:\u001b[0m Still uploading 3 asset(s), remaining 182.39 MB/1.50 GB, Throughput 761.85 KB/s, ETA ~246s\n",
      "\u001b[1;38;5;39mCOMET INFO:\u001b[0m Still uploading 3 asset(s), remaining 171.17 MB/1.50 GB, Throughput 765.87 KB/s, ETA ~229s\n",
      "\u001b[1;38;5;39mCOMET INFO:\u001b[0m Still uploading 3 asset(s), remaining 159.56 MB/1.50 GB, Throughput 791.74 KB/s, ETA ~207s\n",
      "\u001b[1;38;5;39mCOMET INFO:\u001b[0m Still uploading 3 asset(s), remaining 147.92 MB/1.50 GB, Throughput 793.82 KB/s, ETA ~191s\n",
      "\u001b[1;38;5;39mCOMET INFO:\u001b[0m Still uploading 3 asset(s), remaining 136.47 MB/1.50 GB, Throughput 781.87 KB/s, ETA ~179s\n",
      "\u001b[1;38;5;39mCOMET INFO:\u001b[0m Still uploading 3 asset(s), remaining 124.89 MB/1.50 GB, Throughput 789.61 KB/s, ETA ~162s\n",
      "\u001b[1;38;5;39mCOMET INFO:\u001b[0m Still uploading 3 asset(s), remaining 113.27 MB/1.50 GB, Throughput 793.60 KB/s, ETA ~147s\n",
      "\u001b[1;38;5;39mCOMET INFO:\u001b[0m Still uploading 3 asset(s), remaining 101.75 MB/1.50 GB, Throughput 785.30 KB/s, ETA ~133s\n",
      "\u001b[1;38;5;39mCOMET INFO:\u001b[0m Still uploading 3 asset(s), remaining 90.13 MB/1.50 GB, Throughput 793.60 KB/s, ETA ~117s\n",
      "\u001b[1;38;5;39mCOMET INFO:\u001b[0m Still uploading 3 asset(s), remaining 78.63 MB/1.50 GB, Throughput 784.23 KB/s, ETA ~103s\n",
      "\u001b[1;38;5;39mCOMET INFO:\u001b[0m Still uploading 3 asset(s), remaining 67.00 MB/1.50 GB, Throughput 793.60 KB/s, ETA ~87s\n",
      "\u001b[1;38;5;39mCOMET INFO:\u001b[0m Still uploading 3 asset(s), remaining 55.36 MB/1.50 GB, Throughput 793.87 KB/s, ETA ~72s\n",
      "\u001b[1;38;5;39mCOMET INFO:\u001b[0m Still uploading 2 asset(s), remaining 46.41 MB/1021.81 MB, Throughput 610.58 KB/s, ETA ~78s\n",
      "\u001b[1;38;5;39mCOMET INFO:\u001b[0m Still uploading 2 asset(s), remaining 38.72 MB/1021.81 MB, Throughput 524.24 KB/s, ETA ~76s\n",
      "\u001b[1;38;5;39mCOMET INFO:\u001b[0m Still uploading 2 asset(s), remaining 31.08 MB/1021.81 MB, Throughput 521.60 KB/s, ETA ~62s\n",
      "\u001b[1;38;5;39mCOMET INFO:\u001b[0m Still uploading 2 asset(s), remaining 23.45 MB/1021.81 MB, Throughput 520.01 KB/s, ETA ~47s\n",
      "\u001b[1;38;5;39mCOMET INFO:\u001b[0m Still uploading 2 asset(s), remaining 15.80 MB/1021.81 MB, Throughput 522.11 KB/s, ETA ~31s\n",
      "\u001b[1;38;5;39mCOMET INFO:\u001b[0m Still uploading 1 asset(s), remaining 11.36 MB/510.91 MB, Throughput 302.97 KB/s, ETA ~39s\n",
      "\u001b[1;38;5;39mCOMET INFO:\u001b[0m Still uploading 1 asset(s), remaining 7.55 MB/510.91 MB, Throughput 260.01 KB/s, ETA ~30s\n",
      "\u001b[1;38;5;39mCOMET INFO:\u001b[0m Still uploading 1 asset(s), remaining 3.73 MB/510.91 MB, Throughput 259.99 KB/s, ETA ~15s\n",
      "\u001b[1;38;5;39mCOMET INFO:\u001b[0m All assets have been sent, waiting for delivery confirmation\n"
     ]
    },
    {
     "data": {
      "text/plain": [
       "TrainOutput(global_step=1602, training_loss=0.2664589768789532, metrics={'train_runtime': 5435.3229, 'train_samples_per_second': 4.708, 'train_steps_per_second': 0.295, 'train_loss': 0.2664589768789532, 'epoch': 3.0})"
      ]
     },
     "execution_count": 19,
     "metadata": {},
     "output_type": "execute_result"
    }
   ],
   "source": [
    "from transformers import TrainingArguments, Trainer\n",
    "\n",
    "# Setting Comet enviroment variables\n",
    "%env COMET_MODE=ONLINE\n",
    "%env COMET_LOG_ASSETS=TRUE\n",
    "\n",
    "# Setting training arguments\n",
    "training_args = TrainingArguments(\n",
    "    output_dir=\"my_distilbert_model\",\n",
    "    learning_rate=2e-5,\n",
    "    per_device_train_batch_size=16,\n",
    "    per_device_eval_batch_size=16,\n",
    "    num_train_epochs=3,\n",
    "    weight_decay=0.01,\n",
    "    evaluation_strategy=\"epoch\",\n",
    "    save_strategy=\"epoch\",\n",
    "    load_best_model_at_end=True,\n",
    "    push_to_hub=True,\n",
    "    report_to=[\"comet_ml\"],\n",
    ")\n",
    "\n",
    "# Creating a trainer object\n",
    "trainer = Trainer(\n",
    "    model=model,\n",
    "    args=training_args,\n",
    "    train_dataset=tokenized_datasets[\"train\"],\n",
    "    eval_dataset=tokenized_datasets[\"test\"],\n",
    "    compute_metrics=compute_metrics,\n",
    "    data_collator=data_collator,\n",
    ")\n",
    "\n",
    "# Training the model\n",
    "trainer.train()"
   ]
  },
  {
   "cell_type": "code",
   "execution_count": 20,
   "metadata": {},
   "outputs": [
    {
     "data": {
      "text/plain": [
       "CommitInfo(commit_url='https://huggingface.co/zzaibis/my_distilbert_model/commit/693a5550f48fcae3c85ad2f6756afdebb1446e60', commit_message='End of training', commit_description='', oid='693a5550f48fcae3c85ad2f6756afdebb1446e60', pr_url=None, pr_revision=None, pr_num=None)"
      ]
     },
     "execution_count": 20,
     "metadata": {},
     "output_type": "execute_result"
    }
   ],
   "source": [
    "# Pushing the model\n",
    "trainer.push_to_hub()"
   ]
  },
  {
   "cell_type": "code",
   "execution_count": 25,
   "metadata": {},
   "outputs": [
    {
     "data": {
      "text/plain": [
       "CommitInfo(commit_url='https://huggingface.co/qaicodes/my_distilbert_model/commit/fe9abc2291937af4b60c3d630f1643077d9be84f', commit_message='Upload tokenizer', commit_description='', oid='fe9abc2291937af4b60c3d630f1643077d9be84f', pr_url=None, pr_revision=None, pr_num=None)"
      ]
     },
     "execution_count": 25,
     "metadata": {},
     "output_type": "execute_result"
    }
   ],
   "source": [
    "tokenizer.push_to_hub(\"qaicodes/my_distilbert_model\")"
   ]
  },
  {
   "cell_type": "code",
   "execution_count": null,
   "metadata": {},
   "outputs": [],
   "source": []
  },
  {
   "cell_type": "code",
   "execution_count": 26,
   "metadata": {},
   "outputs": [
    {
     "data": {
      "application/vnd.jupyter.widget-view+json": {
       "model_id": "b9702eee69104f5d8344bff4c7d764c5",
       "version_major": 2,
       "version_minor": 0
      },
      "text/plain": [
       "config.json:   0%|          | 0.00/735 [00:00<?, ?B/s]"
      ]
     },
     "metadata": {},
     "output_type": "display_data"
    },
    {
     "name": "stderr",
     "output_type": "stream",
     "text": [
      "c:\\Users\\zzaib\\Desktop\\vs-code-projects\\bert-text-classification-gradio\\.venv\\Lib\\site-packages\\huggingface_hub\\file_download.py:149: UserWarning: `huggingface_hub` cache-system uses symlinks by default to efficiently store duplicated files but your machine does not support them in C:\\Users\\zzaib\\.cache\\huggingface\\hub\\models--qaicodes--my_distilbert_model. Caching files will still work but in a degraded version that might require more space on your disk. This warning can be disabled by setting the `HF_HUB_DISABLE_SYMLINKS_WARNING` environment variable. For more details, see https://huggingface.co/docs/huggingface_hub/how-to-cache#limitations.\n",
      "To support symlinks on Windows, you either need to activate Developer Mode or to run Python as an administrator. In order to see activate developer mode, see this article: https://docs.microsoft.com/en-us/windows/apps/get-started/enable-your-device-for-development\n",
      "  warnings.warn(message)\n"
     ]
    },
    {
     "data": {
      "application/vnd.jupyter.widget-view+json": {
       "model_id": "b0c1142b3824482ba2aa3369a5e1fe1a",
       "version_major": 2,
       "version_minor": 0
      },
      "text/plain": [
       "model.safetensors:   0%|          | 0.00/268M [00:00<?, ?B/s]"
      ]
     },
     "metadata": {},
     "output_type": "display_data"
    },
    {
     "data": {
      "application/vnd.jupyter.widget-view+json": {
       "model_id": "4002e4d68cdb45f0a0f246fd2feffe72",
       "version_major": 2,
       "version_minor": 0
      },
      "text/plain": [
       "tokenizer_config.json:   0%|          | 0.00/1.20k [00:00<?, ?B/s]"
      ]
     },
     "metadata": {},
     "output_type": "display_data"
    },
    {
     "data": {
      "application/vnd.jupyter.widget-view+json": {
       "model_id": "a906dad2748a482387f197b3d1953cfc",
       "version_major": 2,
       "version_minor": 0
      },
      "text/plain": [
       "vocab.txt:   0%|          | 0.00/232k [00:00<?, ?B/s]"
      ]
     },
     "metadata": {},
     "output_type": "display_data"
    },
    {
     "data": {
      "application/vnd.jupyter.widget-view+json": {
       "model_id": "8884bbae49314cd8af27b8e32149ad09",
       "version_major": 2,
       "version_minor": 0
      },
      "text/plain": [
       "tokenizer.json:   0%|          | 0.00/711k [00:00<?, ?B/s]"
      ]
     },
     "metadata": {},
     "output_type": "display_data"
    },
    {
     "data": {
      "application/vnd.jupyter.widget-view+json": {
       "model_id": "1eb0350b75234e9bbe636be382d3d648",
       "version_major": 2,
       "version_minor": 0
      },
      "text/plain": [
       "special_tokens_map.json:   0%|          | 0.00/125 [00:00<?, ?B/s]"
      ]
     },
     "metadata": {},
     "output_type": "display_data"
    },
    {
     "data": {
      "text/plain": [
       "[{'label': 'POSITIVE', 'score': 0.9611639976501465}]"
      ]
     },
     "execution_count": 26,
     "metadata": {},
     "output_type": "execute_result"
    }
   ],
   "source": [
    "from transformers import pipeline\n",
    "\n",
    "# Creating a text\n",
    "text = \"This is a great movie. It may be my favourite.\"\n",
    "\n",
    "# Predicting the label\n",
    "classifier = pipeline(\"sentiment-analysis\", \n",
    "                       model=\"qaicodes/my_distilbert_model\")\n",
    "classifier(text)"
   ]
  },
  {
   "cell_type": "code",
   "execution_count": null,
   "metadata": {},
   "outputs": [],
   "source": [
    "import gradio as gr\n",
    "from transformers import pipeline\n",
    "\n",
    "# Creating pipeline\n",
    "classifier = pipeline(\"sentiment-analysis\", \n",
    "                      model=\"qaicodes/my_distilbert_model\")\n",
    "\n",
    "# Creating a function for text classification\n",
    "def text_classification(text):\n",
    "    result= classifier(text)\n",
    "    sentiment_label = result[0]['label']\n",
    "    sentiment_score = result[0]['score']\n",
    "    formatted_output = f\"This sentiment is {sentiment_label} with the probability {sentiment_score*100:.2f}%\"\n",
    "    return formatted_output\n",
    "\n",
    "# Getting examples \n",
    "examples=[\"This is wonderful movie!\", \"The movie was really bad; I didn't like it.\"]\n",
    "\n",
    "# Building a Gradio interface\n",
    "io = gr.Interface(fn=text_classification, \n",
    "                         inputs= gr.Textbox(lines=2, label=\"Text\", placeholder=\"Enter title here...\"), \n",
    "                         outputs=gr.Textbox(lines=2, label=\"Text Classification Result\"),\n",
    "                         title=\"Text Classification\",\n",
    "                         description=\"Enter a text and see the text classification result!\",\n",
    "                         examples=examples)\n",
    "\n",
    "io.launch(inline=False, share=True)\n",
    "\n",
    "# Logging the app to the Comet Dashboard\n",
    "experiment = comet_ml.Experiment()\n",
    "experiment.add_tag(\"text-classifier\")\n",
    "\n",
    "# Integrating Comet\n",
    "io.integrate(comet_ml=experiment)"
   ]
  }
 ],
 "metadata": {
  "kernelspec": {
   "display_name": ".venv",
   "language": "python",
   "name": "python3"
  },
  "language_info": {
   "codemirror_mode": {
    "name": "ipython",
    "version": 3
   },
   "file_extension": ".py",
   "mimetype": "text/x-python",
   "name": "python",
   "nbconvert_exporter": "python",
   "pygments_lexer": "ipython3",
   "version": "3.11.6"
  }
 },
 "nbformat": 4,
 "nbformat_minor": 2
}
